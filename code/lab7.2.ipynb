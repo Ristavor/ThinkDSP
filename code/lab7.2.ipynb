{
 "cells": [
  {
   "cell_type": "code",
   "execution_count": 1,
   "metadata": {},
   "outputs": [],
   "source": [
    "import numpy as np\n",
    "PI2 = 2 * np.pi"
   ]
  },
  {
   "cell_type": "code",
   "execution_count": 2,
   "metadata": {},
   "outputs": [
    {
     "name": "stdout",
     "output_type": "stream",
     "text": [
      "[ 0.2+0.j  -1.2-0.2j  0.2+0.j  -1.2+0.2j]\n"
     ]
    }
   ],
   "source": [
    "ys = [-0.5, 0.1, 0.7, -0.1]\n",
    "hs = np.fft.fft(ys)\n",
    "print(hs)"
   ]
  },
  {
   "cell_type": "code",
   "execution_count": 3,
   "metadata": {},
   "outputs": [],
   "source": [
    "def dft(ys):\n",
    "    N = len(ys)\n",
    "    ts = np.arange(N) / N\n",
    "    freqs = np.arange(N)\n",
    "    args = np.outer(ts, freqs)\n",
    "    M = np.exp(1j * PI2 * args)\n",
    "    amps = M.conj().transpose().dot(ys)\n",
    "    return amps"
   ]
  },
  {
   "cell_type": "code",
   "execution_count": 4,
   "metadata": {},
   "outputs": [
    {
     "name": "stdout",
     "output_type": "stream",
     "text": [
      "[ 0.2+0.00000000e+00j -1.2-2.00000000e-01j  0.2+1.95943488e-16j\n",
      " -1.2+2.00000000e-01j]\n"
     ]
    }
   ],
   "source": [
    "hs2 = dft(ys)\n",
    "np.sum(np.abs(hs - hs2))\n",
    "print(hs2)"
   ]
  },
  {
   "cell_type": "code",
   "execution_count": 5,
   "metadata": {},
   "outputs": [],
   "source": [
    "def fft_norec(ys):\n",
    "    N = len(ys)\n",
    "    He = np.fft.fft(ys[::2])\n",
    "    Ho = np.fft.fft(ys[1::2])\n",
    "\n",
    "    ns = np.arange(N)\n",
    "    W = np.exp(-1j * PI2 * ns / N)\n",
    "\n",
    "    return np.tile(He, 2) + W * np.tile(Ho, 2)"
   ]
  },
  {
   "cell_type": "code",
   "execution_count": 6,
   "metadata": {},
   "outputs": [
    {
     "name": "stdout",
     "output_type": "stream",
     "text": [
      "[ 0.2+0.j  -1.2-0.2j  0.2+0.j  -1.2+0.2j]\n"
     ]
    }
   ],
   "source": [
    "hs3 = fft_norec(ys)\n",
    "np.sum(np.abs(hs - hs3))\n",
    "print(hs3)"
   ]
  },
  {
   "cell_type": "code",
   "execution_count": 7,
   "metadata": {},
   "outputs": [],
   "source": [
    "def fft(ys):\n",
    "    N = len(ys)\n",
    "    if N == 1:\n",
    "        return ys\n",
    "\n",
    "    He = fft(ys[::2])\n",
    "    Ho = fft(ys[1::2])\n",
    "\n",
    "    ns = np.arange(N)\n",
    "    W = np.exp(-1j * PI2 * ns / N)\n",
    "\n",
    "    return np.tile(He, 2) + W * np.tile(Ho, 2)"
   ]
  },
  {
   "cell_type": "code",
   "execution_count": 8,
   "metadata": {},
   "outputs": [
    {
     "name": "stdout",
     "output_type": "stream",
     "text": [
      "[ 0.2+0.j  -1.2-0.2j  0.2+0.j  -1.2+0.2j]\n"
     ]
    }
   ],
   "source": [
    "hs4 = fft(ys)\n",
    "np.sum(np.abs(hs - hs4))\n",
    "print(hs4)"
   ]
  },
  {
   "cell_type": "markdown",
   "metadata": {},
   "source": [
    "Во всех реализациях получаем схожие результаты"
   ]
  }
 ],
 "metadata": {
  "kernelspec": {
   "display_name": ".venv",
   "language": "python",
   "name": "python3"
  },
  "language_info": {
   "codemirror_mode": {
    "name": "ipython",
    "version": 3
   },
   "file_extension": ".py",
   "mimetype": "text/x-python",
   "name": "python",
   "nbconvert_exporter": "python",
   "pygments_lexer": "ipython3",
   "version": "3.12.3"
  }
 },
 "nbformat": 4,
 "nbformat_minor": 2
}
