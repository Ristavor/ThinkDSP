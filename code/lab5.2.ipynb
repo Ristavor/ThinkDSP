{
 "cells": [
  {
   "cell_type": "code",
   "execution_count": 1,
   "metadata": {},
   "outputs": [],
   "source": [
    "# Get thinkdsp.py\n",
    "\n",
    "import os\n",
    "import numpy as np\n",
    "import matplotlib.pyplot as plt\n",
    "\n",
    "if not os.path.exists('thinkdsp.py'):\n",
    "    !wget https://github.com/AllenDowney/ThinkDSP/raw/master/code/thinkdsp.py\n",
    "\n",
    "from thinkdsp import decorate, read_wave, Spectrum, Wave\n",
    "\n",
    "def serial_corr (wave, lag=1):\n",
    "  N = len (wave)\n",
    "  y1 = wave.ys[lag:]\n",
    "  y2 = wave.ys[:N-lag]\n",
    "  corr = np.corrcoef(y1, y2)[0, 1]\n",
    "  return corr\n",
    "\n",
    "def autocorr (wave):\n",
    "  lags = range(len(wave.ys)//2)\n",
    "  corrs = [serial_corr(wave, lag) for lag in lags]\n",
    "  return lags, corrs"
   ]
  },
  {
   "cell_type": "code",
   "execution_count": 2,
   "metadata": {},
   "outputs": [],
   "source": [
    "def estimate_fundamental(segment, low=50, high=200):\n",
    "  lags, corrs = autocorr(segment)\n",
    "  lag = np.array(corrs[low:high]).argmax() + low\n",
    "  period = lag / segment.framerate\n",
    "  frequency = 1 / period\n",
    "  return frequency"
   ]
  },
  {
   "cell_type": "code",
   "execution_count": 3,
   "metadata": {},
   "outputs": [
    {
     "data": {
      "text/plain": [
       "344.53125"
      ]
     },
     "execution_count": 3,
     "metadata": {},
     "output_type": "execute_result"
    }
   ],
   "source": [
    "wave = read_wave('28042__bcjordan__voicedownbew.wav')\n",
    "segment = wave.segment(start=0.7, duration=0.05)\n",
    "estimate_fundamental(segment)"
   ]
  },
  {
   "cell_type": "code",
   "execution_count": 4,
   "metadata": {},
   "outputs": [],
   "source": [
    "duration = wave.duration\n",
    "step = 0.05\n",
    "start = 0\n",
    "time = []\n",
    "freq = []\n",
    "while start + step < duration:\n",
    "  time.append(start + step/2)\n",
    "  freq.append(estimate_fundamental(wave.segment(start=start,duration=step)))\n",
    "  start += step"
   ]
  },
  {
   "cell_type": "code",
   "execution_count": 5,
   "metadata": {},
   "outputs": [
    {
     "data": {
      "image/png": "[encoded data removed]",
      "text/plain": [
       "<Figure size 640x480 with 1 Axes>"
      ]
     },
     "metadata": {},
     "output_type": "display_data"
    }
   ],
   "source": [
    "wave.make_spectrogram(2048).plot(high=900)"
   ]
  }
 ],
 "metadata": {
  "kernelspec": {
   "display_name": ".venv",
   "language": "python",
   "name": "python3"
  },
  "language_info": {
   "codemirror_mode": {
    "name": "ipython",
    "version": 3
   },
   "file_extension": ".py",
   "mimetype": "text/x-python",
   "name": "python",
   "nbconvert_exporter": "python",
   "pygments_lexer": "ipython3",
   "version": "3.12.3"
  }
 },
 "nbformat": 4,
 "nbformat_minor": 2
}
