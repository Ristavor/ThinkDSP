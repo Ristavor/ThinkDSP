{
 "cells": [
  {
   "cell_type": "code",
   "execution_count": 1,
   "metadata": {},
   "outputs": [],
   "source": [
    "# Get thinkdsp.py\n",
    "\n",
    "import os\n",
    "\n",
    "if not os.path.exists('thinkdsp.py'):\n",
    "    !wget https://github.com/AllenDowney/ThinkDSP/raw/master/code/thinkdsp.py\n",
    "\n",
    "import numpy as np\n",
    "PI2 = np.pi * 2\n",
    "\n",
    "import matplotlib.pyplot as plt\n",
    "\n",
    "from thinkdsp import decorate\n",
    "from thinkdsp import UncorrelatedGaussianNoise"
   ]
  },
  {
   "cell_type": "markdown",
   "metadata": {},
   "source": [
    "Создадим функции"
   ]
  },
  {
   "cell_type": "code",
   "execution_count": 2,
   "metadata": {},
   "outputs": [
    {
     "data": {
      "text/plain": [
       "(16384,)"
      ]
     },
     "execution_count": 2,
     "metadata": {},
     "output_type": "execute_result"
    }
   ],
   "source": [
    "def analyze1(ys, fs, ts):\n",
    "    args = np.outer(ts, fs)\n",
    "    M = np.cos(PI2 * args)\n",
    "    amps = np.linalg.solve(M, ys)\n",
    "    return amps\n",
    "\n",
    "def analyze2(ys, fs, ts):\n",
    "    args = np.outer(ts, fs)\n",
    "    M = np.cos(PI2 * args)\n",
    "    amps = M.dot(ys) / 2\n",
    "    return amps\n",
    "\n",
    "def dct_iv(ys):\n",
    "    N = len(ys)\n",
    "    ts = (0.5 + np.arange(N)) / N\n",
    "    fs = (0.5 + np.arange(N)) / 2\n",
    "    args = np.outer(ts, fs)\n",
    "    M = np.cos(PI2 * args)\n",
    "    amps = np.dot(M, ys) / 2\n",
    "    return amps\n",
    "\n",
    "signal = UncorrelatedGaussianNoise()\n",
    "wave = signal.make_wave(duration=1.0, framerate=16384)\n",
    "wave.ys.shape"
   ]
  },
  {
   "cell_type": "code",
   "execution_count": 3,
   "metadata": {},
   "outputs": [
    {
     "data": {
      "text/plain": [
       "array([  27,   81,  243,  729, 2187, 6561], dtype=int32)"
      ]
     },
     "execution_count": 3,
     "metadata": {},
     "output_type": "execute_result"
    }
   ],
   "source": [
    "ns = 3 ** np.arange(3,9)\n",
    "ns"
   ]
  },
  {
   "cell_type": "code",
   "execution_count": 4,
   "metadata": {},
   "outputs": [
    {
     "name": "stdout",
     "output_type": "stream",
     "text": [
      "220 µs ± 0 ns per loop (mean ± std. dev. of 1 run, 10,000 loops each)\n",
      "1.95 ms ± 0 ns per loop (mean ± std. dev. of 1 run, 100 loops each)\n",
      "3.35 ms ± 0 ns per loop (mean ± std. dev. of 1 run, 100 loops each)\n",
      "21 ms ± 0 ns per loop (mean ± std. dev. of 1 run, 100 loops each)\n",
      "243 ms ± 0 ns per loop (mean ± std. dev. of 1 run, 10 loops each)\n",
      "3.09 s ± 0 ns per loop (mean ± std. dev. of 1 run, 1 loop each)\n"
     ]
    },
    {
     "data": {
      "text/plain": [
       "[0.00022015912999995635,\n",
       " 0.0019518610000159242,\n",
       " 0.003348273000010522,\n",
       " 0.02100253700000394,\n",
       " 0.24274788000002445,\n",
       " 3.093593300000066]"
      ]
     },
     "execution_count": 4,
     "metadata": {},
     "output_type": "execute_result"
    }
   ],
   "source": [
    "best_analyze1 = []\n",
    "for n in ns:\n",
    "    ts = (0.5 + np.arange(n)) / n\n",
    "    freqs = (0.5 + np.arange(n)) / 2\n",
    "    ys = wave.ys[:n]\n",
    "    best =  %timeit -r1 -o analyze1(ys,freqs,ts)\n",
    "    best_analyze1.append(best.best)\n",
    "best_analyze1"
   ]
  },
  {
   "cell_type": "code",
   "execution_count": 5,
   "metadata": {},
   "outputs": [
    {
     "name": "stdout",
     "output_type": "stream",
     "text": [
      "15.6 µs ± 0 ns per loop (mean ± std. dev. of 1 run, 10,000 loops each)\n",
      "79 µs ± 0 ns per loop (mean ± std. dev. of 1 run, 10,000 loops each)\n",
      "819 µs ± 0 ns per loop (mean ± std. dev. of 1 run, 1,000 loops each)\n",
      "7.58 ms ± 0 ns per loop (mean ± std. dev. of 1 run, 100 loops each)\n",
      "81.8 ms ± 0 ns per loop (mean ± std. dev. of 1 run, 10 loops each)\n",
      "607 ms ± 0 ns per loop (mean ± std. dev. of 1 run, 1 loop each)\n"
     ]
    },
    {
     "data": {
      "text/plain": [
       "[1.564829000017198e-05,\n",
       " 7.896043000000646e-05,\n",
       " 0.000819016899999042,\n",
       " 0.00758065699999861,\n",
       " 0.08183504000007816,\n",
       " 0.6073434000009001]"
      ]
     },
     "execution_count": 5,
     "metadata": {},
     "output_type": "execute_result"
    }
   ],
   "source": [
    "best_analyze2 = []\n",
    "for n in ns:\n",
    "    ts = (0.5 + np.arange(n)) / n\n",
    "    freqs = (0.5 + np.arange(n)) / 2\n",
    "    ys = wave.ys[:n]\n",
    "    best =  %timeit -r1 -o analyze2(ys,freqs,ts)\n",
    "    best_analyze2.append(best.best)\n",
    "best_analyze2"
   ]
  },
  {
   "cell_type": "code",
   "execution_count": 6,
   "metadata": {},
   "outputs": [
    {
     "name": "stdout",
     "output_type": "stream",
     "text": [
      "10.4 µs ± 0 ns per loop (mean ± std. dev. of 1 run, 100,000 loops each)\n",
      "6.14 µs ± 0 ns per loop (mean ± std. dev. of 1 run, 100,000 loops each)\n",
      "11.6 µs ± 0 ns per loop (mean ± std. dev. of 1 run, 100,000 loops each)\n",
      "10.3 µs ± 0 ns per loop (mean ± std. dev. of 1 run, 100,000 loops each)\n",
      "21.1 µs ± 0 ns per loop (mean ± std. dev. of 1 run, 10,000 loops each)\n",
      "52.6 µs ± 0 ns per loop (mean ± std. dev. of 1 run, 10,000 loops each)\n"
     ]
    },
    {
     "data": {
      "text/plain": [
       "[1.0438606000006985e-05,\n",
       " 6.140949999989971e-06,\n",
       " 1.1565881999995327e-05,\n",
       " 1.034358799999609e-05,\n",
       " 2.1092080000016723e-05,\n",
       " 5.255548000004637e-05]"
      ]
     },
     "execution_count": 6,
     "metadata": {},
     "output_type": "execute_result"
    }
   ],
   "source": [
    "import scipy.fftpack\n",
    "\n",
    "best_dct = []\n",
    "for n in ns:\n",
    "    ys = wave.ys[:n]\n",
    "    best =  %timeit -r1 -o scipy.fftpack.dct(ys, type=3)\n",
    "    best_dct.append(best.best)\n",
    "best_dct"
   ]
  },
  {
   "cell_type": "code",
   "execution_count": 7,
   "metadata": {},
   "outputs": [
    {
     "data": {
      "image/png": "[encoded data removed]",
      "text/plain": [
       "<Figure size 640x480 with 1 Axes>"
      ]
     },
     "metadata": {},
     "output_type": "display_data"
    }
   ],
   "source": [
    "plt.plot(ns, best_analyze1, label='analyze1')\n",
    "plt.plot(ns, best_analyze2, label='analyze2')\n",
    "plt.plot(ns, best_dct, label='fftpack.dct')\n",
    "loglog = dict(xscale='log', yscale='log')\n",
    "decorate(xlabel='Wave length (N)', ylabel='Time (s)', **loglog)"
   ]
  },
  {
   "cell_type": "markdown",
   "metadata": {},
   "source": [
    "По графикам видно, что оба результата скорее пропорциональны квадрату, а не кубу"
   ]
  },
  {
   "cell_type": "code",
   "execution_count": 8,
   "metadata": {},
   "outputs": [
    {
     "data": {
      "text/plain": [
       "LinregressResult(slope=1.665955854481534, intercept=-14.15114319003083, rvalue=0.9850711612899739, pvalue=0.00033264174102209997, stderr=0.14556834399121016, intercept_stderr=0.9210056766845908)"
      ]
     },
     "execution_count": 8,
     "metadata": {},
     "output_type": "execute_result"
    }
   ],
   "source": [
    "from scipy.stats import linregress\n",
    "\n",
    "linregress(np.log(ns),np.log(best_analyze1))"
   ]
  },
  {
   "cell_type": "markdown",
   "metadata": {},
   "source": [
    "В ячейке выше видно, что наклон для analyze1 равен 1.67, что гораздо меньше, чем 3"
   ]
  },
  {
   "cell_type": "code",
   "execution_count": 9,
   "metadata": {},
   "outputs": [
    {
     "data": {
      "text/plain": [
       "LinregressResult(slope=1.973612738717539, intercept=-17.842457735749793, rvalue=0.9988417595812725, pvalue=2.011504399515299e-06, stderr=0.04753612956044484, intercept_stderr=0.3007593819671913)"
      ]
     },
     "execution_count": 9,
     "metadata": {},
     "output_type": "execute_result"
    }
   ],
   "source": [
    "linregress(np.log(ns),np.log(best_analyze2))"
   ]
  },
  {
   "cell_type": "code",
   "execution_count": 10,
   "metadata": {},
   "outputs": [
    {
     "data": {
      "text/plain": [
       "LinregressResult(slope=0.30354796506325454, intercept=-12.990378300328132, rvalue=0.8324082943126705, pvalue=0.03977689729536619, stderr=0.10104115829214036, intercept_stderr=0.6392837743037509)"
      ]
     },
     "execution_count": 10,
     "metadata": {},
     "output_type": "execute_result"
    }
   ],
   "source": [
    "linregress(np.log(ns),np.log(best_dct))"
   ]
  }
 ],
 "metadata": {
  "kernelspec": {
   "display_name": ".venv",
   "language": "python",
   "name": "python3"
  },
  "language_info": {
   "codemirror_mode": {
    "name": "ipython",
    "version": 3
   },
   "file_extension": ".py",
   "mimetype": "text/x-python",
   "name": "python",
   "nbconvert_exporter": "python",
   "pygments_lexer": "ipython3",
   "version": "3.12.3"
  }
 },
 "nbformat": 4,
 "nbformat_minor": 2
}
