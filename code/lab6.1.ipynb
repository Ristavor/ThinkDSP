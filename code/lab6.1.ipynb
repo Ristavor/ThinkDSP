{
 "cells": [
  {
   "cell_type": "code",
   "execution_count": 1,
   "metadata": {},
   "outputs": [],
   "source": [
    "# Get thinkdsp.py\n",
    "\n",
    "import os\n",
    "\n",
    "if not os.path.exists('thinkdsp.py'):\n",
    "    !wget https://github.com/AllenDowney/ThinkDSP/raw/master/code/thinkdsp.py\n",
    "\n",
    "import numpy as np\n",
    "PI2 = np.pi * 2\n",
    "\n",
    "import matplotlib.pyplot as plt\n",
    "\n",
    "from thinkdsp import decorate\n",
    "from thinkdsp import UncorrelatedGaussianNoise"
   ]
  },
  {
   "cell_type": "markdown",
   "metadata": {},
   "source": [
    "Создадим функции"
   ]
  },
  {
   "cell_type": "code",
   "execution_count": 2,
   "metadata": {},
   "outputs": [
    {
     "data": {
      "text/plain": [
       "(16384,)"
      ]
     },
     "execution_count": 2,
     "metadata": {},
     "output_type": "execute_result"
    }
   ],
   "source": [
    "def analyze1(ys, fs, ts):\n",
    "    args = np.outer(ts, fs)\n",
    "    M = np.cos(PI2 * args)\n",
    "    amps = np.linalg.solve(M, ys)\n",
    "    return amps\n",
    "\n",
    "def analyze2(ys, fs, ts):\n",
    "    args = np.outer(ts, fs)\n",
    "    M = np.cos(PI2 * args)\n",
    "    amps = M.dot(ys) / 2\n",
    "    return amps\n",
    "\n",
    "def dct_iv(ys):\n",
    "    N = len(ys)\n",
    "    ts = (0.5 + np.arange(N)) / N\n",
    "    fs = (0.5 + np.arange(N)) / 2\n",
    "    args = np.outer(ts, fs)\n",
    "    M = np.cos(PI2 * args)\n",
    "    amps = np.dot(M, ys) / 2\n",
    "    return amps\n",
    "\n",
    "signal = UncorrelatedGaussianNoise()\n",
    "wave = signal.make_wave(duration=1.0, framerate=16384)\n",
    "wave.ys.shape"
   ]
  },
  {
   "cell_type": "code",
   "execution_count": 3,
   "metadata": {},
   "outputs": [
    {
     "data": {
      "text/plain": [
       "array([  64,  128,  256,  512, 1024, 2048], dtype=int32)"
      ]
     },
     "execution_count": 3,
     "metadata": {},
     "output_type": "execute_result"
    }
   ],
   "source": [
    "ns = 2 ** np.arange(6,12)\n",
    "ns"
   ]
  },
  {
   "cell_type": "code",
   "execution_count": 4,
   "metadata": {},
   "outputs": [
    {
     "name": "stdout",
     "output_type": "stream",
     "text": [
      "1.29 ms ± 0 ns per loop (mean ± std. dev. of 1 run, 100 loops each)\n",
      "5.56 ms ± 0 ns per loop (mean ± std. dev. of 1 run, 100 loops each)\n",
      "8.94 ms ± 0 ns per loop (mean ± std. dev. of 1 run, 100 loops each)\n",
      "35.7 ms ± 0 ns per loop (mean ± std. dev. of 1 run, 100 loops each)\n",
      "145 ms ± 0 ns per loop (mean ± std. dev. of 1 run, 10 loops each)\n",
      "196 ms ± 0 ns per loop (mean ± std. dev. of 1 run, 1 loop each)\n"
     ]
    },
    {
     "data": {
      "text/plain": [
       "[0.001289265999998861,\n",
       " 0.005556555000000571,\n",
       " 0.00894470199999887,\n",
       " 0.03570127800000136,\n",
       " 0.1451685600000019,\n",
       " 0.19600400000012996]"
      ]
     },
     "execution_count": 4,
     "metadata": {},
     "output_type": "execute_result"
    }
   ],
   "source": [
    "best_analyze1 = []\n",
    "for n in ns:\n",
    "    ts = (0.5 + np.arange(n)) / n\n",
    "    freqs = (0.5 + np.arange(n)) / 2\n",
    "    ys = wave.ys[:n]\n",
    "    best =  %timeit -r1 -o analyze1(ys,freqs,ts)\n",
    "    best_analyze1.append(best.best)\n",
    "best_analyze1"
   ]
  },
  {
   "cell_type": "code",
   "execution_count": 5,
   "metadata": {},
   "outputs": [
    {
     "name": "stdout",
     "output_type": "stream",
     "text": [
      "55.5 µs ± 0 ns per loop (mean ± std. dev. of 1 run, 10,000 loops each)\n",
      "242 µs ± 0 ns per loop (mean ± std. dev. of 1 run, 1,000 loops each)\n",
      "817 µs ± 0 ns per loop (mean ± std. dev. of 1 run, 1,000 loops each)\n",
      "3.72 ms ± 0 ns per loop (mean ± std. dev. of 1 run, 100 loops each)\n",
      "14.3 ms ± 0 ns per loop (mean ± std. dev. of 1 run, 100 loops each)\n",
      "56 ms ± 0 ns per loop (mean ± std. dev. of 1 run, 10 loops each)\n"
     ]
    },
    {
     "data": {
      "text/plain": [
       "[5.5475840000008244e-05,\n",
       " 0.00024243920000003528,\n",
       " 0.000817301599999837,\n",
       " 0.0037245179999990797,\n",
       " 0.014345560000001568,\n",
       " 0.05598479000000225]"
      ]
     },
     "execution_count": 5,
     "metadata": {},
     "output_type": "execute_result"
    }
   ],
   "source": [
    "best_analyze2 = []\n",
    "for n in ns:\n",
    "    ts = (0.5 + np.arange(n)) / n\n",
    "    freqs = (0.5 + np.arange(n)) / 2\n",
    "    ys = wave.ys[:n]\n",
    "    best =  %timeit -r1 -o analyze2(ys,freqs,ts)\n",
    "    best_analyze2.append(best.best)\n",
    "best_analyze2"
   ]
  },
  {
   "cell_type": "code",
   "execution_count": 6,
   "metadata": {},
   "outputs": [
    {
     "name": "stdout",
     "output_type": "stream",
     "text": [
      "5.59 µs ± 0 ns per loop (mean ± std. dev. of 1 run, 100,000 loops each)\n",
      "5.89 µs ± 0 ns per loop (mean ± std. dev. of 1 run, 100,000 loops each)\n",
      "6.4 µs ± 0 ns per loop (mean ± std. dev. of 1 run, 100,000 loops each)\n",
      "7.79 µs ± 0 ns per loop (mean ± std. dev. of 1 run, 100,000 loops each)\n",
      "10.2 µs ± 0 ns per loop (mean ± std. dev. of 1 run, 100,000 loops each)\n",
      "16.3 µs ± 0 ns per loop (mean ± std. dev. of 1 run, 100,000 loops each)\n"
     ]
    },
    {
     "data": {
      "text/plain": [
       "[5.594237999998768e-06,\n",
       " 5.885951000000204e-06,\n",
       " 6.399171000000479e-06,\n",
       " 7.792852000000039e-06,\n",
       " 1.0213402000001679e-05,\n",
       " 1.6327022999998917e-05]"
      ]
     },
     "execution_count": 6,
     "metadata": {},
     "output_type": "execute_result"
    }
   ],
   "source": [
    "import scipy.fftpack\n",
    "\n",
    "best_dct = []\n",
    "for n in ns:\n",
    "    ys = wave.ys[:n]\n",
    "    best =  %timeit -r1 -o scipy.fftpack.dct(ys, type=3)\n",
    "    best_dct.append(best.best)\n",
    "best_dct"
   ]
  },
  {
   "cell_type": "code",
   "execution_count": 7,
   "metadata": {},
   "outputs": [
    {
     "data": {
      "image/png": "[encoded data removed]",
      "text/plain": [
       "<Figure size 640x480 with 1 Axes>"
      ]
     },
     "metadata": {},
     "output_type": "display_data"
    }
   ],
   "source": [
    "plt.plot(ns, best_analyze1, label='analyze1')\n",
    "plt.plot(ns, best_analyze2, label='analyze2')\n",
    "plt.plot(ns, best_dct, label='fftpack.dct')\n",
    "loglog = dict(xscale='log', yscale='log')\n",
    "decorate(xlabel='Wave length (N)', ylabel='Time (s)', **loglog)"
   ]
  },
  {
   "cell_type": "markdown",
   "metadata": {},
   "source": [
    "По графикам видно, что оба результата скорее пропорциональны квадрату, а не кубу"
   ]
  },
  {
   "cell_type": "code",
   "execution_count": 8,
   "metadata": {},
   "outputs": [
    {
     "data": {
      "text/plain": [
       "LinregressResult(slope=1.496000018135019, intercept=-12.72325995358384, rvalue=0.9879583304157414, pvalue=0.00021662967764393392, stderr=0.11714128052500643, intercept_stderr=0.7039601480943184)"
      ]
     },
     "execution_count": 8,
     "metadata": {},
     "output_type": "execute_result"
    }
   ],
   "source": [
    "from scipy.stats import linregress\n",
    "\n",
    "linregress(np.log(ns),np.log(best_analyze1))"
   ]
  },
  {
   "cell_type": "markdown",
   "metadata": {},
   "source": [
    "В ячейке выше видно, что наклон для analyze1 равен 1.5, что гораздо меньше, чем 3"
   ]
  },
  {
   "cell_type": "code",
   "execution_count": 9,
   "metadata": {},
   "outputs": [
    {
     "data": {
      "text/plain": [
       "LinregressResult(slope=1.9926692503934944, intercept=-18.06591658124797, rvalue=0.9997545921685509, pvalue=9.033011576104717e-08, stderr=0.022077219524317664, intercept_stderr=0.1326729796378806)"
      ]
     },
     "execution_count": 9,
     "metadata": {},
     "output_type": "execute_result"
    }
   ],
   "source": [
    "linregress(np.log(ns),np.log(best_analyze2))"
   ]
  },
  {
   "cell_type": "code",
   "execution_count": 10,
   "metadata": {},
   "outputs": [
    {
     "data": {
      "text/plain": [
       "LinregressResult(slope=0.2970244481592654, intercept=-13.47880412680994, rvalue=0.939202582872923, pvalue=0.0054321253593043245, stderr=0.054294655134299236, intercept_stderr=0.3262835551888307)"
      ]
     },
     "execution_count": 10,
     "metadata": {},
     "output_type": "execute_result"
    }
   ],
   "source": [
    "linregress(np.log(ns),np.log(best_dct))"
   ]
  }
 ],
 "metadata": {
  "kernelspec": {
   "display_name": ".venv",
   "language": "python",
   "name": "python3"
  },
  "language_info": {
   "codemirror_mode": {
    "name": "ipython",
    "version": 3
   },
   "file_extension": ".py",
   "mimetype": "text/x-python",
   "name": "python",
   "nbconvert_exporter": "python",
   "pygments_lexer": "ipython3",
   "version": "3.12.3"
  }
 },
 "nbformat": 4,
 "nbformat_minor": 2
}
